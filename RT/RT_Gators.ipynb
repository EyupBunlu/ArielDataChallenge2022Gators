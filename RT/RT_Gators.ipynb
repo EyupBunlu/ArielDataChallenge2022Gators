{
 "cells": [
  {
   "cell_type": "code",
   "execution_count": 1,
   "id": "e46621c3-6a21-48cd-b882-b964fc23d47e",
   "metadata": {
    "tags": []
   },
   "outputs": [],
   "source": [
    "from ML_Dataset_Model import *\n",
    "from ML_Functions import *\n",
    "from Ariel_Functions import *\n",
    "\n",
    "import matplotlib.pyplot as plt\n",
    "import numpy as np\n",
    "import pandas as pd\n",
    "from scipy.optimize import leastsq\n",
    "import h5py\n",
    "import os\n",
    "from tqdm import tqdm\n",
    "from time import time\n",
    "import scipy\n",
    "import torch\n",
    "from torch import nn\n",
    "from torch.utils.data import DataLoader\n",
    "torch.set_default_dtype(torch.float64)"
   ]
  },
  {
   "cell_type": "code",
   "execution_count": 2,
   "id": "14e8d9a2-00ac-47e4-a15d-a4866b3c9897",
   "metadata": {
    "tags": []
   },
   "outputs": [],
   "source": [
    "N= 21988\n",
    "\n",
    "\n",
    "path = 'TrainingData'\n",
    "path_np = 'np_data'\n",
    "\n",
    "# test_matrix = to_observed_matrix(h5py.File( os.path.join( path,'SpectralData.hdf5'),'r') ,pd.read_csv( os.path.join( path,'AuxillaryTable.csv')))[:N]\n",
    "# spec_tr = torch.Tensor(test_matrix[:,:,1])\n",
    "# noise = torch.Tensor(test_matrix[:,:,2])\n",
    "# aux_tr = torch.Tensor(pd.read_csv( os.path.join( path,'AuxillaryTable.csv')).drop(pd.read_csv( os.path.join( path,'AuxillaryTable.csv')).columns[:1],axis=1).values)[:N]\n",
    "# quart_tr = torch.Tensor(load_Quartile_Table( os.path.join( path,'QuartilesTable.csv'))[:N])\n",
    "# del test_matrix\n",
    "\n",
    "# Loads the data using numpy files from path, comment the block and uncomment the previous block to use the training data in the original\n",
    "# format, assuming AuxillaryTable,QuartilesTable, SpectralData are all in a folder named TrainingData\n",
    "\n",
    "\n",
    "\n",
    "with np.load(os.path.join(path_np,'all_training.npz')) as data:\n",
    "    spec_tr = torch.Tensor(data['spec_tr'])[:N]\n",
    "    noise = torch.Tensor(data['noise'])[:N]\n",
    "    aux_tr = torch.Tensor(data['aux_tr'])[:N]\n",
    "    soft_tr = torch.Tensor(data['FM'])[:N]\n",
    "    quart_tr = torch.Tensor(data['quart_tr'])\n"
   ]
  },
  {
   "cell_type": "code",
   "execution_count": 3,
   "id": "35ac3dbd-fc85-4269-a3bb-252c9b091282",
   "metadata": {},
   "outputs": [],
   "source": [
    "# Comment the next line and uncomment the convert_dist line to do the parametrize the distribution instead of using\n",
    "# preparametrization, obtained parameters might be slightly different due to degeneracies.\n",
    "\n",
    "param_tr = torch.tensor(np.load(os.path.join(path_np,'dist_params.npy')))\n",
    "# param_tr = torch.Tensor(convert_dist(quart_tr,trace_path='TrainingData\\\\'+'Tracedata.hdf5'))\n",
    "\n",
    "param_tr[:,0,:] = 1-  param_tr[:,0,:]"
   ]
  },
  {
   "cell_type": "code",
   "execution_count": 4,
   "id": "ea4cf69e-49b8-417a-acba-f9c39a974a2c",
   "metadata": {},
   "outputs": [
    {
     "name": "stdout",
     "output_type": "stream",
     "text": [
      "tensor(1.)\n"
     ]
    }
   ],
   "source": [
    "torch.manual_seed(0)\n",
    "# Train_test splitter, tr_ratio determines training_samples to total samples ratio. Set to 1 before \n",
    "# training for the final submission\n",
    "\n",
    "tr_ratio=1\n",
    "uniq = torch.unique(aux_tr,dim=0)\n",
    "\n",
    "ind  = torch.ones(aux_tr.shape[0])==1\n",
    "for i in range(1,6):\n",
    "    ind[quart_tr[:,1,i].argsort()[:int(21988*(1-tr_ratio))]] = False\n",
    "    ind[quart_tr[:,1,i].argsort()[int(21988*tr_ratio):]] = False\n",
    "    \n",
    "print(ind.sum()/21988)"
   ]
  },
  {
   "cell_type": "code",
   "execution_count": 5,
   "id": "cfa2caa2-eb59-4b21-bf13-912982c6d6e0",
   "metadata": {},
   "outputs": [],
   "source": [
    "spec_tr,aux_tr,noise,Tr,std_mn = preprocessor(spec_tr,aux_tr,noise,ind=ind)\n",
    "aux_std,aux_mn = std_mn\n",
    "param_mn,param_std = param_tr[ind,:,:].mean(axis=0),param_tr[ind,:,:].std(axis=0)"
   ]
  },
  {
   "cell_type": "code",
   "execution_count": 6,
   "id": "7ebe4607-959c-4cb4-8f15-4681821ba038",
   "metadata": {
    "tags": []
   },
   "outputs": [],
   "source": [
    "train_data = Combined_Quart_Dataset(spectra=spec_tr[ind],aux=aux_tr[ind],quart=param_tr[ind][:,:,:],noise=noise[ind])\n",
    "train_loader = DataLoader(train_data, batch_size=64,\n",
    "                        shuffle=True, num_workers=0)\n",
    "\n",
    "if not(ind.all()):\n",
    "    test_data = Combined_Quart_Dataset(spectra=spec_tr[~ind],aux=aux_tr[~ind],quart=param_tr[~ind][:,:,:],noise=noise[~ind])\n",
    "\n",
    "else:\n",
    "    test_data=train_data\n",
    "    \n",
    "test_loader = DataLoader(test_data, batch_size=len(test_data),\n",
    "                        shuffle=True, num_workers=0)\n"
   ]
  },
  {
   "cell_type": "code",
   "execution_count": 7,
   "id": "77c3edda-be13-440c-8301-8ebd86760f7e",
   "metadata": {
    "tags": []
   },
   "outputs": [],
   "source": [
    "model = Parameter_ML(Dropout=0.2)\n",
    "# Model Parameter_SML is not used in the rest of the code, however it was defined in the run where final submission\n",
    "# was created and thus, will be kept to make sure cdf stays reproducible\n",
    "model1 =  Parameter_SML(Dropout=0.2)"
   ]
  },
  {
   "cell_type": "code",
   "execution_count": 8,
   "id": "be7a90e8-e17e-49a0-9053-0dfe63c651d9",
   "metadata": {
    "tags": []
   },
   "outputs": [
    {
     "data": {
      "application/vnd.jupyter.widget-view+json": {
       "model_id": "a30aa461bc2946708922017c85379326",
       "version_major": 2,
       "version_minor": 0
      },
      "text/plain": [
       "  0%|          | 0/10 [00:00<?, ?it/s]"
      ]
     },
     "metadata": {},
     "output_type": "display_data"
    },
    {
     "data": {
      "application/vnd.jupyter.widget-view+json": {
       "model_id": "ccd1a8fe98ee4b36ada68434bb90aaf6",
       "version_major": 2,
       "version_minor": 0
      },
      "text/plain": [
       "  0%|          | 0/15 [00:00<?, ?it/s]"
      ]
     },
     "metadata": {},
     "output_type": "display_data"
    },
    {
     "data": {
      "application/vnd.jupyter.widget-view+json": {
       "model_id": "515f6fb1cb764d72ba621f3f5140375d",
       "version_major": 2,
       "version_minor": 0
      },
      "text/plain": [
       "  0%|          | 0/30 [00:00<?, ?it/s]"
      ]
     },
     "metadata": {},
     "output_type": "display_data"
    },
    {
     "data": {
      "application/vnd.jupyter.widget-view+json": {
       "model_id": "",
       "version_major": 2,
       "version_minor": 0
      },
      "text/plain": [
       "  0%|          | 0/344 [00:00<?, ?it/s]"
      ]
     },
     "metadata": {},
     "output_type": "display_data"
    },
    {
     "data": {
      "application/vnd.jupyter.widget-view+json": {
       "model_id": "",
       "version_major": 2,
       "version_minor": 0
      },
      "text/plain": [
       "  0%|          | 0/344 [00:00<?, ?it/s]"
      ]
     },
     "metadata": {},
     "output_type": "display_data"
    },
    {
     "data": {
      "application/vnd.jupyter.widget-view+json": {
       "model_id": "",
       "version_major": 2,
       "version_minor": 0
      },
      "text/plain": [
       "  0%|          | 0/344 [00:00<?, ?it/s]"
      ]
     },
     "metadata": {},
     "output_type": "display_data"
    },
    {
     "data": {
      "application/vnd.jupyter.widget-view+json": {
       "model_id": "",
       "version_major": 2,
       "version_minor": 0
      },
      "text/plain": [
       "  0%|          | 0/344 [00:00<?, ?it/s]"
      ]
     },
     "metadata": {},
     "output_type": "display_data"
    },
    {
     "data": {
      "application/vnd.jupyter.widget-view+json": {
       "model_id": "",
       "version_major": 2,
       "version_minor": 0
      },
      "text/plain": [
       "  0%|          | 0/344 [00:00<?, ?it/s]"
      ]
     },
     "metadata": {},
     "output_type": "display_data"
    },
    {
     "data": {
      "application/vnd.jupyter.widget-view+json": {
       "model_id": "",
       "version_major": 2,
       "version_minor": 0
      },
      "text/plain": [
       "  0%|          | 0/344 [00:00<?, ?it/s]"
      ]
     },
     "metadata": {},
     "output_type": "display_data"
    },
    {
     "data": {
      "application/vnd.jupyter.widget-view+json": {
       "model_id": "",
       "version_major": 2,
       "version_minor": 0
      },
      "text/plain": [
       "  0%|          | 0/344 [00:00<?, ?it/s]"
      ]
     },
     "metadata": {},
     "output_type": "display_data"
    },
    {
     "data": {
      "application/vnd.jupyter.widget-view+json": {
       "model_id": "",
       "version_major": 2,
       "version_minor": 0
      },
      "text/plain": [
       "  0%|          | 0/344 [00:00<?, ?it/s]"
      ]
     },
     "metadata": {},
     "output_type": "display_data"
    },
    {
     "data": {
      "application/vnd.jupyter.widget-view+json": {
       "model_id": "",
       "version_major": 2,
       "version_minor": 0
      },
      "text/plain": [
       "  0%|          | 0/344 [00:00<?, ?it/s]"
      ]
     },
     "metadata": {},
     "output_type": "display_data"
    },
    {
     "data": {
      "application/vnd.jupyter.widget-view+json": {
       "model_id": "",
       "version_major": 2,
       "version_minor": 0
      },
      "text/plain": [
       "  0%|          | 0/344 [00:00<?, ?it/s]"
      ]
     },
     "metadata": {},
     "output_type": "display_data"
    },
    {
     "data": {
      "application/vnd.jupyter.widget-view+json": {
       "model_id": "",
       "version_major": 2,
       "version_minor": 0
      },
      "text/plain": [
       "  0%|          | 0/344 [00:00<?, ?it/s]"
      ]
     },
     "metadata": {},
     "output_type": "display_data"
    },
    {
     "data": {
      "application/vnd.jupyter.widget-view+json": {
       "model_id": "",
       "version_major": 2,
       "version_minor": 0
      },
      "text/plain": [
       "  0%|          | 0/344 [00:00<?, ?it/s]"
      ]
     },
     "metadata": {},
     "output_type": "display_data"
    },
    {
     "data": {
      "application/vnd.jupyter.widget-view+json": {
       "model_id": "",
       "version_major": 2,
       "version_minor": 0
      },
      "text/plain": [
       "  0%|          | 0/344 [00:00<?, ?it/s]"
      ]
     },
     "metadata": {},
     "output_type": "display_data"
    },
    {
     "data": {
      "application/vnd.jupyter.widget-view+json": {
       "model_id": "",
       "version_major": 2,
       "version_minor": 0
      },
      "text/plain": [
       "  0%|          | 0/344 [00:00<?, ?it/s]"
      ]
     },
     "metadata": {},
     "output_type": "display_data"
    },
    {
     "data": {
      "application/vnd.jupyter.widget-view+json": {
       "model_id": "",
       "version_major": 2,
       "version_minor": 0
      },
      "text/plain": [
       "  0%|          | 0/344 [00:00<?, ?it/s]"
      ]
     },
     "metadata": {},
     "output_type": "display_data"
    },
    {
     "data": {
      "application/vnd.jupyter.widget-view+json": {
       "model_id": "",
       "version_major": 2,
       "version_minor": 0
      },
      "text/plain": [
       "  0%|          | 0/344 [00:00<?, ?it/s]"
      ]
     },
     "metadata": {},
     "output_type": "display_data"
    },
    {
     "data": {
      "application/vnd.jupyter.widget-view+json": {
       "model_id": "",
       "version_major": 2,
       "version_minor": 0
      },
      "text/plain": [
       "  0%|          | 0/344 [00:00<?, ?it/s]"
      ]
     },
     "metadata": {},
     "output_type": "display_data"
    },
    {
     "data": {
      "application/vnd.jupyter.widget-view+json": {
       "model_id": "",
       "version_major": 2,
       "version_minor": 0
      },
      "text/plain": [
       "  0%|          | 0/344 [00:00<?, ?it/s]"
      ]
     },
     "metadata": {},
     "output_type": "display_data"
    },
    {
     "data": {
      "application/vnd.jupyter.widget-view+json": {
       "model_id": "",
       "version_major": 2,
       "version_minor": 0
      },
      "text/plain": [
       "  0%|          | 0/344 [00:00<?, ?it/s]"
      ]
     },
     "metadata": {},
     "output_type": "display_data"
    },
    {
     "data": {
      "application/vnd.jupyter.widget-view+json": {
       "model_id": "",
       "version_major": 2,
       "version_minor": 0
      },
      "text/plain": [
       "  0%|          | 0/344 [00:00<?, ?it/s]"
      ]
     },
     "metadata": {},
     "output_type": "display_data"
    },
    {
     "data": {
      "application/vnd.jupyter.widget-view+json": {
       "model_id": "",
       "version_major": 2,
       "version_minor": 0
      },
      "text/plain": [
       "  0%|          | 0/344 [00:00<?, ?it/s]"
      ]
     },
     "metadata": {},
     "output_type": "display_data"
    },
    {
     "data": {
      "application/vnd.jupyter.widget-view+json": {
       "model_id": "",
       "version_major": 2,
       "version_minor": 0
      },
      "text/plain": [
       "  0%|          | 0/344 [00:00<?, ?it/s]"
      ]
     },
     "metadata": {},
     "output_type": "display_data"
    },
    {
     "data": {
      "application/vnd.jupyter.widget-view+json": {
       "model_id": "",
       "version_major": 2,
       "version_minor": 0
      },
      "text/plain": [
       "  0%|          | 0/344 [00:00<?, ?it/s]"
      ]
     },
     "metadata": {},
     "output_type": "display_data"
    },
    {
     "data": {
      "application/vnd.jupyter.widget-view+json": {
       "model_id": "",
       "version_major": 2,
       "version_minor": 0
      },
      "text/plain": [
       "  0%|          | 0/344 [00:00<?, ?it/s]"
      ]
     },
     "metadata": {},
     "output_type": "display_data"
    },
    {
     "data": {
      "application/vnd.jupyter.widget-view+json": {
       "model_id": "",
       "version_major": 2,
       "version_minor": 0
      },
      "text/plain": [
       "  0%|          | 0/344 [00:00<?, ?it/s]"
      ]
     },
     "metadata": {},
     "output_type": "display_data"
    },
    {
     "data": {
      "application/vnd.jupyter.widget-view+json": {
       "model_id": "",
       "version_major": 2,
       "version_minor": 0
      },
      "text/plain": [
       "  0%|          | 0/344 [00:00<?, ?it/s]"
      ]
     },
     "metadata": {},
     "output_type": "display_data"
    },
    {
     "data": {
      "application/vnd.jupyter.widget-view+json": {
       "model_id": "",
       "version_major": 2,
       "version_minor": 0
      },
      "text/plain": [
       "  0%|          | 0/344 [00:00<?, ?it/s]"
      ]
     },
     "metadata": {},
     "output_type": "display_data"
    },
    {
     "data": {
      "application/vnd.jupyter.widget-view+json": {
       "model_id": "",
       "version_major": 2,
       "version_minor": 0
      },
      "text/plain": [
       "  0%|          | 0/344 [00:00<?, ?it/s]"
      ]
     },
     "metadata": {},
     "output_type": "display_data"
    },
    {
     "data": {
      "application/vnd.jupyter.widget-view+json": {
       "model_id": "",
       "version_major": 2,
       "version_minor": 0
      },
      "text/plain": [
       "  0%|          | 0/344 [00:00<?, ?it/s]"
      ]
     },
     "metadata": {},
     "output_type": "display_data"
    },
    {
     "data": {
      "application/vnd.jupyter.widget-view+json": {
       "model_id": "",
       "version_major": 2,
       "version_minor": 0
      },
      "text/plain": [
       "  0%|          | 0/344 [00:00<?, ?it/s]"
      ]
     },
     "metadata": {},
     "output_type": "display_data"
    },
    {
     "data": {
      "application/vnd.jupyter.widget-view+json": {
       "model_id": "",
       "version_major": 2,
       "version_minor": 0
      },
      "text/plain": [
       "  0%|          | 0/344 [00:00<?, ?it/s]"
      ]
     },
     "metadata": {},
     "output_type": "display_data"
    },
    {
     "data": {
      "application/vnd.jupyter.widget-view+json": {
       "model_id": "",
       "version_major": 2,
       "version_minor": 0
      },
      "text/plain": [
       "  0%|          | 0/344 [00:00<?, ?it/s]"
      ]
     },
     "metadata": {},
     "output_type": "display_data"
    },
    {
     "data": {
      "application/vnd.jupyter.widget-view+json": {
       "model_id": "",
       "version_major": 2,
       "version_minor": 0
      },
      "text/plain": [
       "  0%|          | 0/344 [00:00<?, ?it/s]"
      ]
     },
     "metadata": {},
     "output_type": "display_data"
    },
    {
     "data": {
      "application/vnd.jupyter.widget-view+json": {
       "model_id": "",
       "version_major": 2,
       "version_minor": 0
      },
      "text/plain": [
       "  0%|          | 0/344 [00:00<?, ?it/s]"
      ]
     },
     "metadata": {},
     "output_type": "display_data"
    },
    {
     "data": {
      "application/vnd.jupyter.widget-view+json": {
       "model_id": "",
       "version_major": 2,
       "version_minor": 0
      },
      "text/plain": [
       "  0%|          | 0/344 [00:00<?, ?it/s]"
      ]
     },
     "metadata": {},
     "output_type": "display_data"
    },
    {
     "data": {
      "application/vnd.jupyter.widget-view+json": {
       "model_id": "",
       "version_major": 2,
       "version_minor": 0
      },
      "text/plain": [
       "  0%|          | 0/344 [00:00<?, ?it/s]"
      ]
     },
     "metadata": {},
     "output_type": "display_data"
    },
    {
     "data": {
      "application/vnd.jupyter.widget-view+json": {
       "model_id": "",
       "version_major": 2,
       "version_minor": 0
      },
      "text/plain": [
       "  0%|          | 0/344 [00:00<?, ?it/s]"
      ]
     },
     "metadata": {},
     "output_type": "display_data"
    },
    {
     "data": {
      "application/vnd.jupyter.widget-view+json": {
       "model_id": "",
       "version_major": 2,
       "version_minor": 0
      },
      "text/plain": [
       "  0%|          | 0/344 [00:00<?, ?it/s]"
      ]
     },
     "metadata": {},
     "output_type": "display_data"
    },
    {
     "data": {
      "application/vnd.jupyter.widget-view+json": {
       "model_id": "",
       "version_major": 2,
       "version_minor": 0
      },
      "text/plain": [
       "  0%|          | 0/344 [00:00<?, ?it/s]"
      ]
     },
     "metadata": {},
     "output_type": "display_data"
    },
    {
     "data": {
      "application/vnd.jupyter.widget-view+json": {
       "model_id": "",
       "version_major": 2,
       "version_minor": 0
      },
      "text/plain": [
       "  0%|          | 0/344 [00:00<?, ?it/s]"
      ]
     },
     "metadata": {},
     "output_type": "display_data"
    },
    {
     "data": {
      "application/vnd.jupyter.widget-view+json": {
       "model_id": "",
       "version_major": 2,
       "version_minor": 0
      },
      "text/plain": [
       "  0%|          | 0/344 [00:00<?, ?it/s]"
      ]
     },
     "metadata": {},
     "output_type": "display_data"
    },
    {
     "data": {
      "application/vnd.jupyter.widget-view+json": {
       "model_id": "",
       "version_major": 2,
       "version_minor": 0
      },
      "text/plain": [
       "  0%|          | 0/344 [00:00<?, ?it/s]"
      ]
     },
     "metadata": {},
     "output_type": "display_data"
    },
    {
     "data": {
      "application/vnd.jupyter.widget-view+json": {
       "model_id": "",
       "version_major": 2,
       "version_minor": 0
      },
      "text/plain": [
       "  0%|          | 0/344 [00:00<?, ?it/s]"
      ]
     },
     "metadata": {},
     "output_type": "display_data"
    },
    {
     "data": {
      "application/vnd.jupyter.widget-view+json": {
       "model_id": "",
       "version_major": 2,
       "version_minor": 0
      },
      "text/plain": [
       "  0%|          | 0/344 [00:00<?, ?it/s]"
      ]
     },
     "metadata": {},
     "output_type": "display_data"
    },
    {
     "data": {
      "application/vnd.jupyter.widget-view+json": {
       "model_id": "",
       "version_major": 2,
       "version_minor": 0
      },
      "text/plain": [
       "  0%|          | 0/344 [00:00<?, ?it/s]"
      ]
     },
     "metadata": {},
     "output_type": "display_data"
    },
    {
     "data": {
      "application/vnd.jupyter.widget-view+json": {
       "model_id": "",
       "version_major": 2,
       "version_minor": 0
      },
      "text/plain": [
       "  0%|          | 0/344 [00:00<?, ?it/s]"
      ]
     },
     "metadata": {},
     "output_type": "display_data"
    },
    {
     "data": {
      "application/vnd.jupyter.widget-view+json": {
       "model_id": "",
       "version_major": 2,
       "version_minor": 0
      },
      "text/plain": [
       "  0%|          | 0/344 [00:00<?, ?it/s]"
      ]
     },
     "metadata": {},
     "output_type": "display_data"
    },
    {
     "data": {
      "application/vnd.jupyter.widget-view+json": {
       "model_id": "",
       "version_major": 2,
       "version_minor": 0
      },
      "text/plain": [
       "  0%|          | 0/344 [00:00<?, ?it/s]"
      ]
     },
     "metadata": {},
     "output_type": "display_data"
    },
    {
     "data": {
      "application/vnd.jupyter.widget-view+json": {
       "model_id": "",
       "version_major": 2,
       "version_minor": 0
      },
      "text/plain": [
       "  0%|          | 0/344 [00:00<?, ?it/s]"
      ]
     },
     "metadata": {},
     "output_type": "display_data"
    },
    {
     "data": {
      "application/vnd.jupyter.widget-view+json": {
       "model_id": "",
       "version_major": 2,
       "version_minor": 0
      },
      "text/plain": [
       "  0%|          | 0/344 [00:00<?, ?it/s]"
      ]
     },
     "metadata": {},
     "output_type": "display_data"
    },
    {
     "data": {
      "application/vnd.jupyter.widget-view+json": {
       "model_id": "",
       "version_major": 2,
       "version_minor": 0
      },
      "text/plain": [
       "  0%|          | 0/344 [00:00<?, ?it/s]"
      ]
     },
     "metadata": {},
     "output_type": "display_data"
    },
    {
     "data": {
      "application/vnd.jupyter.widget-view+json": {
       "model_id": "",
       "version_major": 2,
       "version_minor": 0
      },
      "text/plain": [
       "  0%|          | 0/344 [00:00<?, ?it/s]"
      ]
     },
     "metadata": {},
     "output_type": "display_data"
    },
    {
     "data": {
      "application/vnd.jupyter.widget-view+json": {
       "model_id": "",
       "version_major": 2,
       "version_minor": 0
      },
      "text/plain": [
       "  0%|          | 0/344 [00:00<?, ?it/s]"
      ]
     },
     "metadata": {},
     "output_type": "display_data"
    },
    {
     "data": {
      "application/vnd.jupyter.widget-view+json": {
       "model_id": "",
       "version_major": 2,
       "version_minor": 0
      },
      "text/plain": [
       "  0%|          | 0/344 [00:00<?, ?it/s]"
      ]
     },
     "metadata": {},
     "output_type": "display_data"
    },
    {
     "data": {
      "application/vnd.jupyter.widget-view+json": {
       "model_id": "",
       "version_major": 2,
       "version_minor": 0
      },
      "text/plain": [
       "  0%|          | 0/344 [00:00<?, ?it/s]"
      ]
     },
     "metadata": {},
     "output_type": "display_data"
    },
    {
     "name": "stdout",
     "output_type": "stream",
     "text": [
      "Time total: 359.32 sec, Best Val. Loss:35.527040568735615, Best of Worst of:0.0\n"
     ]
    }
   ],
   "source": [
    "# Loss function is an approximation of the EMD\n",
    "loss_fn = lambda y,yhat: (yhat[:,0,:]-y[:,0,:])**2*5+(1-y[:,0,:])**2*torch.abs(y[:,1,:]-yhat[:,1,:])**2+(\n",
    "    y[:,0,:])**2* ((y[:,2,:]-yhat[:,2,:])**2+yhat[:,3,:]+y[:,3,:]-2*torch.sqrt(y[:,3,:]*yhat[:,3,:]))\n",
    "\n",
    "params={'model':model ,\n",
    "      'loss_fn':loss_fn,\n",
    "      'train_dl':train_loader,\n",
    "      'val_dl':test_loader,\n",
    "      'device':'cpu', 'optimizer':torch.optim.Adam(model.parameters(),8e-4)}\n",
    "\n",
    "a=train(**params,epochs=np.array([10,15,30]),lrs=np.array([8e-4,4e-4,2e-4]))"
   ]
  },
  {
   "cell_type": "code",
   "execution_count": 9,
   "id": "8276dd3d-9f6c-4f55-b785-0edbe459b130",
   "metadata": {
    "tags": []
   },
   "outputs": [],
   "source": [
    "# plt.plot(a['history']['loss'][10:],label='tr')\n",
    "# plt.plot(a['history']['val_loss'][10:],label='val')\n",
    "# plt.legend()"
   ]
  },
  {
   "cell_type": "code",
   "execution_count": 12,
   "id": "3b9faa4e-0ae8-405a-8a9e-acbbb4ed9072",
   "metadata": {
    "tags": []
   },
   "outputs": [],
   "source": [
    "# Load the final data \n",
    "\n",
    "path_final  = 'final'\n",
    "\n",
    "test_matrix = to_observed_matrix(h5py.File(os.path.join(path_final,'SpectralData.hdf5'),'r'),\n",
    "                                           pd.read_csv(os.path.join(path_final,'AuxillaryTable.csv')))\n",
    "spec_test = torch.Tensor(test_matrix[:,:,1])\n",
    "noise_test = torch.Tensor(test_matrix[:,:,2])\n",
    "aux_test = torch.Tensor(pd.read_csv(os.path.join(path_final,'AuxillaryTable.csv')).drop(pd.read_csv(os.path.join(path_final,'AuxillaryTable.csv')).columns[:2],axis=1).values)"
   ]
  },
  {
   "cell_type": "code",
   "execution_count": 16,
   "id": "869e224b-52ac-4f31-8c81-0926b8807450",
   "metadata": {},
   "outputs": [],
   "source": [
    "# Load the data challenge test data (not the final data)\n",
    "\n",
    "with np.load(os.path.join(path_np, 'all_testing.npz') ) as data:\n",
    "    spec_test = torch.Tensor(data['spec_test'])\n",
    "    noise_test = torch.Tensor(data['noise_test'])\n",
    "    aux_test = torch.Tensor(data['aux_test'])"
   ]
  },
  {
   "cell_type": "code",
   "execution_count": 17,
   "id": "8fbec33f-1638-41df-99fa-d2e71d6b0df0",
   "metadata": {},
   "outputs": [],
   "source": [
    "spec_test,aux_test,noise_test,T,std_mn =  preprocessor(spec_test,aux_test,noise_test,std_mn=std_mn)"
   ]
  },
  {
   "cell_type": "code",
   "execution_count": 18,
   "id": "90539eeb-84c6-4ce2-b13e-795675309ddf",
   "metadata": {},
   "outputs": [
    {
     "name": "stderr",
     "output_type": "stream",
     "text": [
      "100%|███████████████████████████████████████████████████████████████████████████████| 800/800 [00:03<00:00, 215.17it/s]\n"
     ]
    }
   ],
   "source": [
    "y = np.zeros((spec_test.shape[0],3,6))\n",
    "model.eval()\n",
    "\n",
    "params_test = model(spec_test,aux_test,noise_test).detach().numpy()\n",
    "temp = np.linspace(-12,-1,10000)\n",
    "\n",
    "y[:,0,0] = T*0.9865\n",
    "y[:,1,0] = T\n",
    "y[:,2,0] = T*1.016\n",
    "\n",
    "for i in tqdm(range(y.shape[0])):\n",
    "    for j in range(1,6):\n",
    "        \n",
    "        tempp = dist_func(params_test[i,:,j-1],temp)\n",
    "        y[i,0,j] = temp[ np.abs(tempp-0.16).argsort()[0]]\n",
    "        y[i,1,j] = temp[ np.abs(tempp-0.5).argsort()[0]]\n",
    "        y[i,2,j] = temp[ np.abs(tempp-0.84).argsort()[0]]\n",
    "\n",
    "y[np.logical_and(y>-1,y<0)]=-1\n",
    "y.sort(axis=1)\n",
    "y[y<-12]=-12\n"
   ]
  },
  {
   "cell_type": "code",
   "execution_count": 19,
   "id": "b07bcdf3-c19d-40bc-a687-ed90270efb99",
   "metadata": {
    "tags": []
   },
   "outputs": [
    {
     "name": "stdout",
     "output_type": "stream",
     "text": [
      "score is: 1000.0\n"
     ]
    },
    {
     "data": {
      "text/plain": [
       "1000.0"
      ]
     },
     "execution_count": 19,
     "metadata": {},
     "output_type": "execute_result"
    }
   ],
   "source": [
    "# yp = load_Quartile_Table('LT_Submission_984LT.csv')\n",
    "# light_track_metric(yp[:,:,:],y[:,:,:])"
   ]
  },
  {
   "cell_type": "code",
   "execution_count": 17,
   "id": "8b35818d-02bc-46ea-af60-71024ee1096b",
   "metadata": {},
   "outputs": [
    {
     "data": {
      "application/vnd.jupyter.widget-view+json": {
       "model_id": "71af3afd8d66415da627f8cc91f2dd12",
       "version_major": 2,
       "version_minor": 0
      },
      "text/plain": [
       "  0%|          | 0/800 [00:00<?, ?it/s]"
      ]
     },
     "metadata": {},
     "output_type": "display_data"
    }
   ],
   "source": [
    "# Creates the distribution and saves it in RT_submission.csv\n",
    "N=4998\n",
    "\n",
    "y_dist = np.zeros((N,spec_test.shape[0],6))\n",
    "\n",
    "mean = y[:,1,:]\n",
    "std1  = (y[:,1,:]-y[:,0,:])\n",
    "std2  = (y[:,2,:]-y[:,1,:])\n",
    "\n",
    "\n",
    "y_dist[:int(N/2),:,0] = mean[:,0] - np.abs(np.random.normal(0, np.broadcast_to(std1[:,0],(int(N/2),spec_test.shape[0])) ))\n",
    "y_dist[int(N/2):,:,0] = mean[:,0] + np.abs(np.random.normal(0, np.broadcast_to(std2[:,0],(int(N/2),spec_test.shape[0])) ))\n",
    "\n",
    "y_dist[:,:,1:] = sample_dist(params_test)\n",
    "\n",
    "for i in range(y_dist.shape[1]):\n",
    "    for j in range(1,6):\n",
    "        np.random.shuffle(y_dist[:,i,j])\n",
    "\n",
    "y_dist = y_dist.swapaxes(0,1)\n",
    "\n",
    "RT_submission = to_regular_track_format(y_dist, \n",
    "   np.ones(y_dist.shape[:-1])*1/N)\n",
    "            "
   ]
  },
  {
   "cell_type": "code",
   "execution_count": 17,
   "id": "e9100041-ad42-4c5b-b007-cf4fab1b2fd5",
   "metadata": {},
   "outputs": [
    {
     "data": {
      "text/plain": [
       "array([[-2.198, -2.193, -2.187],\n",
       "       [-4.107, -3.999, -3.763],\n",
       "       [-2.858, -2.802, -2.746],\n",
       "       [-1.737, -1.7  , -1.612],\n",
       "       [-3.902, -3.883, -3.865]])"
      ]
     },
     "execution_count": 17,
     "metadata": {},
     "output_type": "execute_result"
    }
   ],
   "source": [
    "np.round(y[:,:,1:].max(axis=0).T,3)"
   ]
  },
  {
   "cell_type": "code",
   "execution_count": null,
   "id": "0b5dc561-ae7b-44fb-8646-115580569138",
   "metadata": {},
   "outputs": [],
   "source": [
    "np.round(y[:,:,1:].min(axis=0).T,3)"
   ]
  },
  {
   "cell_type": "code",
   "execution_count": null,
   "id": "9c592e5d-545c-4ad9-861c-4a8dadb9e15b",
   "metadata": {},
   "outputs": [],
   "source": [
    "np.round(quart[:,:,1:].max(axis=0).values.T,3)"
   ]
  },
  {
   "cell_type": "code",
   "execution_count": null,
   "id": "eb74ab3e-3047-4a13-bd47-00fba2172a41",
   "metadata": {},
   "outputs": [],
   "source": [
    "np.round(quart[:,:,1:].min(axis=0).values.T,3)"
   ]
  }
 ],
 "metadata": {
  "kernelspec": {
   "display_name": "Python 3 (ipykernel)",
   "language": "python",
   "name": "python3"
  },
  "language_info": {
   "codemirror_mode": {
    "name": "ipython",
    "version": 3
   },
   "file_extension": ".py",
   "mimetype": "text/x-python",
   "name": "python",
   "nbconvert_exporter": "python",
   "pygments_lexer": "ipython3",
   "version": "3.9.13"
  }
 },
 "nbformat": 4,
 "nbformat_minor": 5
}
