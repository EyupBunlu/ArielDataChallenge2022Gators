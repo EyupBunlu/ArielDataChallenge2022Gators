{
 "cells": [
  {
   "cell_type": "code",
   "execution_count": 1,
   "id": "dd17b57b-2a91-4b9f-a8d5-056ae6625352",
   "metadata": {},
   "outputs": [
    {
     "data": {
      "text/plain": [
       "[<matplotlib.lines.Line2D at 0x1dadc3f0d60>]"
      ]
     },
     "execution_count": 1,
     "metadata": {},
     "output_type": "execute_result"
    },
    {
     "data": {
      "image/png": "[encoded data removed]",
      "text/plain": [
       "<Figure size 640x480 with 1 Axes>"
      ]
     },
     "metadata": {},
     "output_type": "display_data"
    }
   ],
   "source": [
    "import matplotlib.pyplot as plt\n",
    "#%matplotlib ipympl\n",
    "%matplotlib inline\n",
    "plt.plot(1,1)"
   ]
  },
  {
   "cell_type": "code",
   "execution_count": 2,
   "id": "e46621c3-6a21-48cd-b882-b964fc23d47e",
   "metadata": {
    "tags": []
   },
   "outputs": [],
   "source": [
    "from ML_Dataset_Model import *\n",
    "from ML_Functions import *\n",
    "from Ariel_Functions import *\n",
    "import scipy\n",
    "import numpy as np\n",
    "import pandas as pd\n",
    "\n",
    "import h5py\n",
    "import os\n",
    "from tqdm import tqdm\n",
    "from time import time\n",
    "import scipy\n",
    "import torch\n",
    "from torch import nn\n",
    "from torch.utils.data import Dataset,DataLoader\n",
    "torch.set_default_dtype(torch.float64)"
   ]
  },
  {
   "cell_type": "code",
   "execution_count": 3,
   "id": "14e8d9a2-00ac-47e4-a15d-a4866b3c9897",
   "metadata": {
    "tags": []
   },
   "outputs": [],
   "source": [
    "N= 21988\n",
    "\n",
    "N= 21988\n",
    "\n",
    "\n",
    "\n",
    "path_np = 'np_data'\n",
    "\n",
    "# path = 'TrainingData'\n",
    "# test_matrix = to_observed_matrix(h5py.File( os.path.join( path,'SpectralData.hdf5'),'r') ,pd.read_csv( os.path.join( path,'AuxillaryTable.csv')))[:N]\n",
    "# spec_tr = torch.Tensor(test_matrix[:,:,1])\n",
    "# noise = torch.Tensor(test_matrix[:,:,2])\n",
    "# aux_tr = torch.Tensor(pd.read_csv( os.path.join( path,'AuxillaryTable.csv')).drop(pd.read_csv( os.path.join( path,'AuxillaryTable.csv')).columns[:1],axis=1).values)[:N]\n",
    "# quart_tr = torch.Tensor(load_Quartile_Table( os.path.join( path,'QuartilesTable.csv'))[:N])\n",
    "# del test_matrix\n",
    "\n",
    "# Loads the data using numpy files from path, comment the block and uncomment the previous block to use the training data in the original\n",
    "# format, assuming AuxillaryTable,QuartilesTable, SpectralData are all in a folder named TrainingData\n",
    "\n",
    "\n",
    "\n",
    "with np.load(os.path.join(path_np,'all_training.npz')) as data:\n",
    "    spec_tr = torch.Tensor(data['spec_tr'])[:N]\n",
    "    noise = torch.Tensor(data['noise'])[:N]\n",
    "    aux_tr = torch.Tensor(data['aux_tr'])[:N]\n",
    "    soft_tr = torch.Tensor(data['FM'])[:N]\n",
    "    quart_tr = torch.Tensor(data['quart_tr'])\n",
    "\n",
    "    "
   ]
  },
  {
   "cell_type": "code",
   "execution_count": 4,
   "id": "a60a844c-fe4f-460f-b406-34b7284bc39a",
   "metadata": {
    "tags": []
   },
   "outputs": [],
   "source": [
    "torch.manual_seed(0)\n",
    "# Train_test splitter, tr_ratio determines training_samples to total samples ratio. Set to 1 before training for the \n",
    "# final submission\n",
    "tr_ratio= 1\n",
    "uniq = torch.unique(aux_tr,dim=0)\n",
    "indd = torch.rand(uniq.shape[0])<tr_ratio\n",
    "ind  = torch.ones(aux_tr.shape[0])==1\n",
    "\n",
    "for i in range(uniq[~indd].shape[0]):\n",
    "    a = torch.where( torch.eq(torch.broadcast_to(uniq[indd][i],aux_tr.shape),aux_tr).sum(axis=1) ==9 )[0]\n",
    "    ind[a]=False\n"
   ]
  },
  {
   "cell_type": "code",
   "execution_count": 5,
   "id": "0d927c14-968e-4930-be40-140767920105",
   "metadata": {},
   "outputs": [],
   "source": [
    "spec_tr,aux_tr,noise,Tr,std_mn = preprocessor(spec_tr,aux_tr,noise,ind=ind)\n",
    "aux_std,aux_mn = std_mn\n",
    "quart_mn,quart_std = quart_tr[ind,:,1:].mean(axis=0),quart_tr[ind,:,1:].std(axis=0)"
   ]
  },
  {
   "cell_type": "code",
   "execution_count": 6,
   "id": "7ebe4607-959c-4cb4-8f15-4681821ba038",
   "metadata": {
    "tags": []
   },
   "outputs": [],
   "source": [
    "train_data = Combined_Quart_Dataset(spectra=spec_tr[ind],aux=aux_tr[ind],quart=quart_tr[ind][:,:,1:],noise=noise[ind])\n",
    "train_loader = DataLoader(train_data, batch_size=64,shuffle=True, num_workers=0)\n",
    "\n",
    "if not(ind.all()):\n",
    "    \n",
    "    test_data = Combined_Quart_Dataset(spectra=spec_tr[~ind],aux=aux_tr[~ind],quart=quart_tr[~ind][:,:,1:],noise=noise[~ind])\n",
    "\n",
    "else:\n",
    "    \n",
    "    test_data=train_data\n",
    "    \n",
    "test_loader = DataLoader(test_data, batch_size=64,shuffle=True, num_workers=0)"
   ]
  },
  {
   "cell_type": "code",
   "execution_count": 7,
   "id": "77c3edda-be13-440c-8301-8ebd86760f7e",
   "metadata": {
    "tags": []
   },
   "outputs": [],
   "source": [
    "model=Combined_QuartM_ML(quart_mn,quart_std,Dropout=0.2)"
   ]
  },
  {
   "cell_type": "code",
   "execution_count": 8,
   "id": "be7a90e8-e17e-49a0-9053-0dfe63c651d9",
   "metadata": {
    "tags": []
   },
   "outputs": [
    {
     "data": {
      "application/vnd.jupyter.widget-view+json": {
       "model_id": "9cbed897e296418c845926b48e19b7d8",
       "version_major": 2,
       "version_minor": 0
      },
      "text/plain": [
       "  0%|          | 0/10 [00:00<?, ?it/s]"
      ]
     },
     "metadata": {},
     "output_type": "display_data"
    },
    {
     "data": {
      "application/vnd.jupyter.widget-view+json": {
       "model_id": "b07eb694f3f24fdf884161961fc824dd",
       "version_major": 2,
       "version_minor": 0
      },
      "text/plain": [
       "  0%|          | 0/15 [00:00<?, ?it/s]"
      ]
     },
     "metadata": {},
     "output_type": "display_data"
    },
    {
     "data": {
      "application/vnd.jupyter.widget-view+json": {
       "model_id": "6824925e3bde4c63b3614e5030a02540",
       "version_major": 2,
       "version_minor": 0
      },
      "text/plain": [
       "  0%|          | 0/40 [00:00<?, ?it/s]"
      ]
     },
     "metadata": {},
     "output_type": "display_data"
    },
    {
     "data": {
      "application/vnd.jupyter.widget-view+json": {
       "model_id": "",
       "version_major": 2,
       "version_minor": 0
      },
      "text/plain": [
       "  0%|          | 0/344 [00:00<?, ?it/s]"
      ]
     },
     "metadata": {},
     "output_type": "display_data"
    },
    {
     "data": {
      "application/vnd.jupyter.widget-view+json": {
       "model_id": "",
       "version_major": 2,
       "version_minor": 0
      },
      "text/plain": [
       "  0%|          | 0/344 [00:00<?, ?it/s]"
      ]
     },
     "metadata": {},
     "output_type": "display_data"
    },
    {
     "data": {
      "application/vnd.jupyter.widget-view+json": {
       "model_id": "",
       "version_major": 2,
       "version_minor": 0
      },
      "text/plain": [
       "  0%|          | 0/344 [00:00<?, ?it/s]"
      ]
     },
     "metadata": {},
     "output_type": "display_data"
    },
    {
     "data": {
      "application/vnd.jupyter.widget-view+json": {
       "model_id": "",
       "version_major": 2,
       "version_minor": 0
      },
      "text/plain": [
       "  0%|          | 0/344 [00:00<?, ?it/s]"
      ]
     },
     "metadata": {},
     "output_type": "display_data"
    },
    {
     "data": {
      "application/vnd.jupyter.widget-view+json": {
       "model_id": "",
       "version_major": 2,
       "version_minor": 0
      },
      "text/plain": [
       "  0%|          | 0/344 [00:00<?, ?it/s]"
      ]
     },
     "metadata": {},
     "output_type": "display_data"
    },
    {
     "data": {
      "application/vnd.jupyter.widget-view+json": {
       "model_id": "",
       "version_major": 2,
       "version_minor": 0
      },
      "text/plain": [
       "  0%|          | 0/344 [00:00<?, ?it/s]"
      ]
     },
     "metadata": {},
     "output_type": "display_data"
    },
    {
     "data": {
      "application/vnd.jupyter.widget-view+json": {
       "model_id": "",
       "version_major": 2,
       "version_minor": 0
      },
      "text/plain": [
       "  0%|          | 0/344 [00:00<?, ?it/s]"
      ]
     },
     "metadata": {},
     "output_type": "display_data"
    },
    {
     "data": {
      "application/vnd.jupyter.widget-view+json": {
       "model_id": "",
       "version_major": 2,
       "version_minor": 0
      },
      "text/plain": [
       "  0%|          | 0/344 [00:00<?, ?it/s]"
      ]
     },
     "metadata": {},
     "output_type": "display_data"
    },
    {
     "data": {
      "application/vnd.jupyter.widget-view+json": {
       "model_id": "",
       "version_major": 2,
       "version_minor": 0
      },
      "text/plain": [
       "  0%|          | 0/344 [00:00<?, ?it/s]"
      ]
     },
     "metadata": {},
     "output_type": "display_data"
    },
    {
     "data": {
      "application/vnd.jupyter.widget-view+json": {
       "model_id": "",
       "version_major": 2,
       "version_minor": 0
      },
      "text/plain": [
       "  0%|          | 0/344 [00:00<?, ?it/s]"
      ]
     },
     "metadata": {},
     "output_type": "display_data"
    },
    {
     "data": {
      "application/vnd.jupyter.widget-view+json": {
       "model_id": "",
       "version_major": 2,
       "version_minor": 0
      },
      "text/plain": [
       "  0%|          | 0/344 [00:00<?, ?it/s]"
      ]
     },
     "metadata": {},
     "output_type": "display_data"
    },
    {
     "data": {
      "application/vnd.jupyter.widget-view+json": {
       "model_id": "",
       "version_major": 2,
       "version_minor": 0
      },
      "text/plain": [
       "  0%|          | 0/344 [00:00<?, ?it/s]"
      ]
     },
     "metadata": {},
     "output_type": "display_data"
    },
    {
     "data": {
      "application/vnd.jupyter.widget-view+json": {
       "model_id": "",
       "version_major": 2,
       "version_minor": 0
      },
      "text/plain": [
       "  0%|          | 0/344 [00:00<?, ?it/s]"
      ]
     },
     "metadata": {},
     "output_type": "display_data"
    },
    {
     "data": {
      "application/vnd.jupyter.widget-view+json": {
       "model_id": "",
       "version_major": 2,
       "version_minor": 0
      },
      "text/plain": [
       "  0%|          | 0/344 [00:00<?, ?it/s]"
      ]
     },
     "metadata": {},
     "output_type": "display_data"
    },
    {
     "data": {
      "application/vnd.jupyter.widget-view+json": {
       "model_id": "",
       "version_major": 2,
       "version_minor": 0
      },
      "text/plain": [
       "  0%|          | 0/344 [00:00<?, ?it/s]"
      ]
     },
     "metadata": {},
     "output_type": "display_data"
    },
    {
     "data": {
      "application/vnd.jupyter.widget-view+json": {
       "model_id": "",
       "version_major": 2,
       "version_minor": 0
      },
      "text/plain": [
       "  0%|          | 0/344 [00:00<?, ?it/s]"
      ]
     },
     "metadata": {},
     "output_type": "display_data"
    },
    {
     "data": {
      "application/vnd.jupyter.widget-view+json": {
       "model_id": "",
       "version_major": 2,
       "version_minor": 0
      },
      "text/plain": [
       "  0%|          | 0/344 [00:00<?, ?it/s]"
      ]
     },
     "metadata": {},
     "output_type": "display_data"
    },
    {
     "data": {
      "application/vnd.jupyter.widget-view+json": {
       "model_id": "",
       "version_major": 2,
       "version_minor": 0
      },
      "text/plain": [
       "  0%|          | 0/344 [00:00<?, ?it/s]"
      ]
     },
     "metadata": {},
     "output_type": "display_data"
    },
    {
     "data": {
      "application/vnd.jupyter.widget-view+json": {
       "model_id": "",
       "version_major": 2,
       "version_minor": 0
      },
      "text/plain": [
       "  0%|          | 0/344 [00:00<?, ?it/s]"
      ]
     },
     "metadata": {},
     "output_type": "display_data"
    },
    {
     "data": {
      "application/vnd.jupyter.widget-view+json": {
       "model_id": "",
       "version_major": 2,
       "version_minor": 0
      },
      "text/plain": [
       "  0%|          | 0/344 [00:00<?, ?it/s]"
      ]
     },
     "metadata": {},
     "output_type": "display_data"
    },
    {
     "data": {
      "application/vnd.jupyter.widget-view+json": {
       "model_id": "",
       "version_major": 2,
       "version_minor": 0
      },
      "text/plain": [
       "  0%|          | 0/344 [00:00<?, ?it/s]"
      ]
     },
     "metadata": {},
     "output_type": "display_data"
    },
    {
     "data": {
      "application/vnd.jupyter.widget-view+json": {
       "model_id": "",
       "version_major": 2,
       "version_minor": 0
      },
      "text/plain": [
       "  0%|          | 0/344 [00:00<?, ?it/s]"
      ]
     },
     "metadata": {},
     "output_type": "display_data"
    },
    {
     "data": {
      "application/vnd.jupyter.widget-view+json": {
       "model_id": "",
       "version_major": 2,
       "version_minor": 0
      },
      "text/plain": [
       "  0%|          | 0/344 [00:00<?, ?it/s]"
      ]
     },
     "metadata": {},
     "output_type": "display_data"
    },
    {
     "data": {
      "application/vnd.jupyter.widget-view+json": {
       "model_id": "",
       "version_major": 2,
       "version_minor": 0
      },
      "text/plain": [
       "  0%|          | 0/344 [00:00<?, ?it/s]"
      ]
     },
     "metadata": {},
     "output_type": "display_data"
    },
    {
     "data": {
      "application/vnd.jupyter.widget-view+json": {
       "model_id": "",
       "version_major": 2,
       "version_minor": 0
      },
      "text/plain": [
       "  0%|          | 0/344 [00:00<?, ?it/s]"
      ]
     },
     "metadata": {},
     "output_type": "display_data"
    },
    {
     "data": {
      "application/vnd.jupyter.widget-view+json": {
       "model_id": "",
       "version_major": 2,
       "version_minor": 0
      },
      "text/plain": [
       "  0%|          | 0/344 [00:00<?, ?it/s]"
      ]
     },
     "metadata": {},
     "output_type": "display_data"
    },
    {
     "data": {
      "application/vnd.jupyter.widget-view+json": {
       "model_id": "",
       "version_major": 2,
       "version_minor": 0
      },
      "text/plain": [
       "  0%|          | 0/344 [00:00<?, ?it/s]"
      ]
     },
     "metadata": {},
     "output_type": "display_data"
    },
    {
     "data": {
      "application/vnd.jupyter.widget-view+json": {
       "model_id": "",
       "version_major": 2,
       "version_minor": 0
      },
      "text/plain": [
       "  0%|          | 0/344 [00:00<?, ?it/s]"
      ]
     },
     "metadata": {},
     "output_type": "display_data"
    },
    {
     "data": {
      "application/vnd.jupyter.widget-view+json": {
       "model_id": "",
       "version_major": 2,
       "version_minor": 0
      },
      "text/plain": [
       "  0%|          | 0/344 [00:00<?, ?it/s]"
      ]
     },
     "metadata": {},
     "output_type": "display_data"
    },
    {
     "data": {
      "application/vnd.jupyter.widget-view+json": {
       "model_id": "",
       "version_major": 2,
       "version_minor": 0
      },
      "text/plain": [
       "  0%|          | 0/344 [00:00<?, ?it/s]"
      ]
     },
     "metadata": {},
     "output_type": "display_data"
    },
    {
     "data": {
      "application/vnd.jupyter.widget-view+json": {
       "model_id": "",
       "version_major": 2,
       "version_minor": 0
      },
      "text/plain": [
       "  0%|          | 0/344 [00:00<?, ?it/s]"
      ]
     },
     "metadata": {},
     "output_type": "display_data"
    },
    {
     "data": {
      "application/vnd.jupyter.widget-view+json": {
       "model_id": "",
       "version_major": 2,
       "version_minor": 0
      },
      "text/plain": [
       "  0%|          | 0/344 [00:00<?, ?it/s]"
      ]
     },
     "metadata": {},
     "output_type": "display_data"
    },
    {
     "data": {
      "application/vnd.jupyter.widget-view+json": {
       "model_id": "",
       "version_major": 2,
       "version_minor": 0
      },
      "text/plain": [
       "  0%|          | 0/344 [00:00<?, ?it/s]"
      ]
     },
     "metadata": {},
     "output_type": "display_data"
    },
    {
     "data": {
      "application/vnd.jupyter.widget-view+json": {
       "model_id": "",
       "version_major": 2,
       "version_minor": 0
      },
      "text/plain": [
       "  0%|          | 0/344 [00:00<?, ?it/s]"
      ]
     },
     "metadata": {},
     "output_type": "display_data"
    },
    {
     "data": {
      "application/vnd.jupyter.widget-view+json": {
       "model_id": "",
       "version_major": 2,
       "version_minor": 0
      },
      "text/plain": [
       "  0%|          | 0/344 [00:00<?, ?it/s]"
      ]
     },
     "metadata": {},
     "output_type": "display_data"
    },
    {
     "data": {
      "application/vnd.jupyter.widget-view+json": {
       "model_id": "",
       "version_major": 2,
       "version_minor": 0
      },
      "text/plain": [
       "  0%|          | 0/344 [00:00<?, ?it/s]"
      ]
     },
     "metadata": {},
     "output_type": "display_data"
    },
    {
     "data": {
      "application/vnd.jupyter.widget-view+json": {
       "model_id": "",
       "version_major": 2,
       "version_minor": 0
      },
      "text/plain": [
       "  0%|          | 0/344 [00:00<?, ?it/s]"
      ]
     },
     "metadata": {},
     "output_type": "display_data"
    },
    {
     "data": {
      "application/vnd.jupyter.widget-view+json": {
       "model_id": "",
       "version_major": 2,
       "version_minor": 0
      },
      "text/plain": [
       "  0%|          | 0/344 [00:00<?, ?it/s]"
      ]
     },
     "metadata": {},
     "output_type": "display_data"
    },
    {
     "data": {
      "application/vnd.jupyter.widget-view+json": {
       "model_id": "",
       "version_major": 2,
       "version_minor": 0
      },
      "text/plain": [
       "  0%|          | 0/344 [00:00<?, ?it/s]"
      ]
     },
     "metadata": {},
     "output_type": "display_data"
    },
    {
     "data": {
      "application/vnd.jupyter.widget-view+json": {
       "model_id": "",
       "version_major": 2,
       "version_minor": 0
      },
      "text/plain": [
       "  0%|          | 0/344 [00:00<?, ?it/s]"
      ]
     },
     "metadata": {},
     "output_type": "display_data"
    },
    {
     "data": {
      "application/vnd.jupyter.widget-view+json": {
       "model_id": "",
       "version_major": 2,
       "version_minor": 0
      },
      "text/plain": [
       "  0%|          | 0/344 [00:00<?, ?it/s]"
      ]
     },
     "metadata": {},
     "output_type": "display_data"
    },
    {
     "data": {
      "application/vnd.jupyter.widget-view+json": {
       "model_id": "",
       "version_major": 2,
       "version_minor": 0
      },
      "text/plain": [
       "  0%|          | 0/344 [00:00<?, ?it/s]"
      ]
     },
     "metadata": {},
     "output_type": "display_data"
    },
    {
     "data": {
      "application/vnd.jupyter.widget-view+json": {
       "model_id": "",
       "version_major": 2,
       "version_minor": 0
      },
      "text/plain": [
       "  0%|          | 0/344 [00:00<?, ?it/s]"
      ]
     },
     "metadata": {},
     "output_type": "display_data"
    },
    {
     "data": {
      "application/vnd.jupyter.widget-view+json": {
       "model_id": "",
       "version_major": 2,
       "version_minor": 0
      },
      "text/plain": [
       "  0%|          | 0/344 [00:00<?, ?it/s]"
      ]
     },
     "metadata": {},
     "output_type": "display_data"
    },
    {
     "data": {
      "application/vnd.jupyter.widget-view+json": {
       "model_id": "",
       "version_major": 2,
       "version_minor": 0
      },
      "text/plain": [
       "  0%|          | 0/344 [00:00<?, ?it/s]"
      ]
     },
     "metadata": {},
     "output_type": "display_data"
    },
    {
     "data": {
      "application/vnd.jupyter.widget-view+json": {
       "model_id": "",
       "version_major": 2,
       "version_minor": 0
      },
      "text/plain": [
       "  0%|          | 0/344 [00:00<?, ?it/s]"
      ]
     },
     "metadata": {},
     "output_type": "display_data"
    },
    {
     "data": {
      "application/vnd.jupyter.widget-view+json": {
       "model_id": "",
       "version_major": 2,
       "version_minor": 0
      },
      "text/plain": [
       "  0%|          | 0/344 [00:00<?, ?it/s]"
      ]
     },
     "metadata": {},
     "output_type": "display_data"
    },
    {
     "data": {
      "application/vnd.jupyter.widget-view+json": {
       "model_id": "df862c2344734b28b405bf5fb9e8f8ce",
       "version_major": 2,
       "version_minor": 0
      },
      "text/plain": [
       "  0%|          | 0/344 [00:00<?, ?it/s]"
      ]
     },
     "metadata": {},
     "output_type": "display_data"
    },
    {
     "data": {
      "application/vnd.jupyter.widget-view+json": {
       "model_id": "49bf109f6d464b398f62e4ac05328719",
       "version_major": 2,
       "version_minor": 0
      },
      "text/plain": [
       "  0%|          | 0/344 [00:00<?, ?it/s]"
      ]
     },
     "metadata": {},
     "output_type": "display_data"
    },
    {
     "data": {
      "application/vnd.jupyter.widget-view+json": {
       "model_id": "058c5c53d8e54a7381f4891fed39e203",
       "version_major": 2,
       "version_minor": 0
      },
      "text/plain": [
       "  0%|          | 0/344 [00:00<?, ?it/s]"
      ]
     },
     "metadata": {},
     "output_type": "display_data"
    },
    {
     "data": {
      "application/vnd.jupyter.widget-view+json": {
       "model_id": "2d1c6a3be0384d7dbe841e68d57d672b",
       "version_major": 2,
       "version_minor": 0
      },
      "text/plain": [
       "  0%|          | 0/344 [00:00<?, ?it/s]"
      ]
     },
     "metadata": {},
     "output_type": "display_data"
    },
    {
     "data": {
      "application/vnd.jupyter.widget-view+json": {
       "model_id": "c18119074b254be3a2cebb5623dbb436",
       "version_major": 2,
       "version_minor": 0
      },
      "text/plain": [
       "  0%|          | 0/344 [00:00<?, ?it/s]"
      ]
     },
     "metadata": {},
     "output_type": "display_data"
    },
    {
     "data": {
      "application/vnd.jupyter.widget-view+json": {
       "model_id": "dfe45f2fe8f74f6da50eab8884086fc6",
       "version_major": 2,
       "version_minor": 0
      },
      "text/plain": [
       "  0%|          | 0/344 [00:00<?, ?it/s]"
      ]
     },
     "metadata": {},
     "output_type": "display_data"
    },
    {
     "data": {
      "application/vnd.jupyter.widget-view+json": {
       "model_id": "26517f06369640ccb31cdfc2333ee40a",
       "version_major": 2,
       "version_minor": 0
      },
      "text/plain": [
       "  0%|          | 0/344 [00:00<?, ?it/s]"
      ]
     },
     "metadata": {},
     "output_type": "display_data"
    },
    {
     "data": {
      "application/vnd.jupyter.widget-view+json": {
       "model_id": "a8759ed473cc422b978e91557b75b278",
       "version_major": 2,
       "version_minor": 0
      },
      "text/plain": [
       "  0%|          | 0/344 [00:00<?, ?it/s]"
      ]
     },
     "metadata": {},
     "output_type": "display_data"
    },
    {
     "data": {
      "application/vnd.jupyter.widget-view+json": {
       "model_id": "6511e12851d34061b40f4260932495d4",
       "version_major": 2,
       "version_minor": 0
      },
      "text/plain": [
       "  0%|          | 0/344 [00:00<?, ?it/s]"
      ]
     },
     "metadata": {},
     "output_type": "display_data"
    },
    {
     "data": {
      "application/vnd.jupyter.widget-view+json": {
       "model_id": "089b377e5437489aaf771f5de517c4a0",
       "version_major": 2,
       "version_minor": 0
      },
      "text/plain": [
       "  0%|          | 0/344 [00:00<?, ?it/s]"
      ]
     },
     "metadata": {},
     "output_type": "display_data"
    },
    {
     "data": {
      "application/vnd.jupyter.widget-view+json": {
       "model_id": "14ee3f196b4743f58a34489bbe50ec5d",
       "version_major": 2,
       "version_minor": 0
      },
      "text/plain": [
       "  0%|          | 0/344 [00:00<?, ?it/s]"
      ]
     },
     "metadata": {},
     "output_type": "display_data"
    },
    {
     "data": {
      "application/vnd.jupyter.widget-view+json": {
       "model_id": "0553506bf12544ceab0a5da86f28a9e6",
       "version_major": 2,
       "version_minor": 0
      },
      "text/plain": [
       "  0%|          | 0/344 [00:00<?, ?it/s]"
      ]
     },
     "metadata": {},
     "output_type": "display_data"
    },
    {
     "data": {
      "application/vnd.jupyter.widget-view+json": {
       "model_id": "a6a0b3bec6d34695a824ade2527ace52",
       "version_major": 2,
       "version_minor": 0
      },
      "text/plain": [
       "  0%|          | 0/344 [00:00<?, ?it/s]"
      ]
     },
     "metadata": {},
     "output_type": "display_data"
    },
    {
     "data": {
      "application/vnd.jupyter.widget-view+json": {
       "model_id": "dbdea54a719e45758db463bdef24bba2",
       "version_major": 2,
       "version_minor": 0
      },
      "text/plain": [
       "  0%|          | 0/344 [00:00<?, ?it/s]"
      ]
     },
     "metadata": {},
     "output_type": "display_data"
    },
    {
     "data": {
      "application/vnd.jupyter.widget-view+json": {
       "model_id": "4ea3474ba4b1448d9d2eb98f74c8830d",
       "version_major": 2,
       "version_minor": 0
      },
      "text/plain": [
       "  0%|          | 0/344 [00:00<?, ?it/s]"
      ]
     },
     "metadata": {},
     "output_type": "display_data"
    },
    {
     "data": {
      "application/vnd.jupyter.widget-view+json": {
       "model_id": "37f9d99005b74c33ae2f8af4d2279ed1",
       "version_major": 2,
       "version_minor": 0
      },
      "text/plain": [
       "  0%|          | 0/344 [00:00<?, ?it/s]"
      ]
     },
     "metadata": {},
     "output_type": "display_data"
    },
    {
     "data": {
      "application/vnd.jupyter.widget-view+json": {
       "model_id": "3b2efc5e71864d06b12314c78495b2c2",
       "version_major": 2,
       "version_minor": 0
      },
      "text/plain": [
       "  0%|          | 0/344 [00:00<?, ?it/s]"
      ]
     },
     "metadata": {},
     "output_type": "display_data"
    },
    {
     "data": {
      "application/vnd.jupyter.widget-view+json": {
       "model_id": "5dd4bcc9fd05477fa4e949db4ffaafbf",
       "version_major": 2,
       "version_minor": 0
      },
      "text/plain": [
       "  0%|          | 0/344 [00:00<?, ?it/s]"
      ]
     },
     "metadata": {},
     "output_type": "display_data"
    },
    {
     "name": "stdout",
     "output_type": "stream",
     "text": [
      "Time total: 461.36 sec, Best Val. Loss:4.085961179747004\n"
     ]
    }
   ],
   "source": [
    "loss_fn = lambda yhat,y: torch.nn.MSELoss(reduction='none')(yhat/y,torch.ones(y.shape))\n",
    "params={'model':model ,\n",
    "      'loss_fn':loss_fn ,\n",
    "      'train_dl':train_loader,\n",
    "      'val_dl':test_loader,\n",
    "      'device':'cpu'}\n",
    "\n",
    "a=train(**params,epochs=np.array([10,15,40]),lrs=np.array([8e-4,4e-4,2e-4]))"
   ]
  },
  {
   "cell_type": "code",
   "execution_count": 26,
   "id": "83cf1d3d-25d3-444c-b19a-be29e210ec39",
   "metadata": {
    "tags": []
   },
   "outputs": [
    {
     "data": {
      "text/plain": [
       "<matplotlib.legend.Legend at 0x1daea77dd00>"
      ]
     },
     "execution_count": 26,
     "metadata": {},
     "output_type": "execute_result"
    },
    {
     "data": {
      "image/png": "[encoded data removed]",
      "text/plain": [
       "<Figure size 500x500 with 1 Axes>"
      ]
     },
     "metadata": {},
     "output_type": "display_data"
    }
   ],
   "source": [
    "# Plot the value loss and training loss.\n",
    "\n",
    "plt.figure(figsize=(5,5))\n",
    "plt.plot(a['history']['val_loss'][10:],label='val')\n",
    "plt.plot(a['history']['loss'][10:],label='tr')\n",
    "plt.legend()"
   ]
  },
  {
   "cell_type": "code",
   "execution_count": 21,
   "id": "ca2d3a53-f4bd-4d38-a18a-1bc7578bd0f9",
   "metadata": {},
   "outputs": [],
   "source": [
    "# Load the final data \n",
    "\n",
    "path_final  = 'final'\n",
    "test_matrix = to_observed_matrix(h5py.File(os.path.join(path_final,'SpectralData.hdf5'),'r'),\n",
    "                                           pd.read_csv(os.path.join(path_final,'AuxillaryTable.csv')))\n",
    "spec_test = torch.Tensor(test_matrix[:,:,1])\n",
    "noise_test = torch.Tensor(test_matrix[:,:,2])\n",
    "aux_test = torch.Tensor(pd.read_csv(os.path.join(path_final,'AuxillaryTable.csv')).drop(pd.read_csv(os.path.join(path_final,'AuxillaryTable.csv')).columns[:2],axis=1).values)"
   ]
  },
  {
   "cell_type": "code",
   "execution_count": 17,
   "id": "f8a98549-eb9c-4602-9c64-eb1aed22d4eb",
   "metadata": {
    "tags": []
   },
   "outputs": [],
   "source": [
    "# Load the data challenge test data (not the final data)\n",
    "\n",
    "# with np.load(os.path.join(path_np, 'all_testing.npz') ) as data:\n",
    "#     spec_test = torch.Tensor(data['spec_test'])\n",
    "#     noise_test = torch.Tensor(data['noise_test'])\n",
    "#     aux_test = torch.Tensor(data['aux_test'])"
   ]
  },
  {
   "cell_type": "code",
   "execution_count": 22,
   "id": "9848707f-7d62-4cb7-8752-35b772bfc645",
   "metadata": {
    "tags": []
   },
   "outputs": [],
   "source": [
    "# Preprocessing the final/test data\n",
    "spec_test, aux_test ,noise_test ,T,std_mn = preprocessor(spec_test ,aux_test ,noise_test ,std_mn=std_mn)"
   ]
  },
  {
   "cell_type": "code",
   "execution_count": 23,
   "id": "99148501-8f84-4e54-847a-9929cd4bf1fd",
   "metadata": {
    "tags": []
   },
   "outputs": [
    {
     "data": {
      "application/vnd.jupyter.widget-view+json": {
       "model_id": "b23b3607099b4d85bb779f397ee3bf52",
       "version_major": 2,
       "version_minor": 0
      },
      "text/plain": [
       "  0%|          | 0/2497 [00:00<?, ?it/s]"
      ]
     },
     "metadata": {},
     "output_type": "display_data"
    }
   ],
   "source": [
    "# Evaluation and Submission\n",
    "model.eval()\n",
    "\n",
    "y = np.zeros((spec_test.shape[0],3,6))\n",
    "\n",
    "with torch.no_grad():\n",
    "    y[:,:,1:] = model(spec_test,aux_test,noise_test)\n",
    "\n",
    "y[:,0,0] = T*0.9865\n",
    "y[:,1,0] = T\n",
    "y[:,2,0] = T*1.016\n",
    "y = np.array(y)\n",
    "\n",
    "y.sort(axis=1)\n",
    "y[y<-12]=-12\n",
    "y[np.logical_and(y>-1,y<0)]=-1\n",
    "\n",
    "all_q1_pred, all_q2_pred, all_q3_pred = y[:,0,:],y[:,1,:],y[:,2,:]\n",
    "LT_submission = to_light_track_format(all_q1_pred, all_q2_pred, all_q3_pred)\n"
   ]
  },
  {
   "cell_type": "code",
   "execution_count": 25,
   "id": "2bc9fade-a9f0-47d3-9a33-81bea87076e2",
   "metadata": {
    "tags": []
   },
   "outputs": [
    {
     "name": "stdout",
     "output_type": "stream",
     "text": [
      "score is: 999.9999999995556\n"
     ]
    },
    {
     "data": {
      "text/plain": [
       "999.9999999995556"
      ]
     },
     "execution_count": 25,
     "metadata": {},
     "output_type": "execute_result"
    }
   ],
   "source": [
    "#Comparison with the final/test submission\n",
    "y2=load_Quartile_Table('gators_LT_submission_v1.csv')\n",
    "# y2=load_Quartile_Table('LT_submission_best2.csv')\n",
    "light_track_metric(y2[:,:,:],y[:,:,:])"
   ]
  },
  {
   "cell_type": "code",
   "execution_count": 15,
   "id": "e9c4798e-7aa8-4002-9153-aa34a4a96e55",
   "metadata": {},
   "outputs": [
    {
     "data": {
      "text/plain": [
       "array([[-12.   ,  -9.882,  -8.15 ],\n",
       "       [-12.   , -10.688,  -8.806],\n",
       "       [-12.   , -12.   ,  -8.814],\n",
       "       [-12.   ,  -9.947,  -7.364],\n",
       "       [-12.   , -12.   , -10.271]])"
      ]
     },
     "execution_count": 15,
     "metadata": {},
     "output_type": "execute_result"
    }
   ],
   "source": [
    "np.round(y.min(axis=0).T,3)[1:,:]"
   ]
  },
  {
   "cell_type": "code",
   "execution_count": 16,
   "id": "e5f6a2c8-666d-4446-afd5-a78106991636",
   "metadata": {},
   "outputs": [
    {
     "data": {
      "text/plain": [
       "array([[-2.115, -2.077, -2.   ],\n",
       "       [-3.832, -3.816, -3.712],\n",
       "       [-2.751, -2.686, -2.628],\n",
       "       [-1.015, -1.   , -1.   ],\n",
       "       [-3.977, -3.908, -3.801]])"
      ]
     },
     "execution_count": 16,
     "metadata": {},
     "output_type": "execute_result"
    }
   ],
   "source": [
    "np.round(y.max(axis=0).T,3)[1:,:]"
   ]
  },
  {
   "cell_type": "code",
   "execution_count": 17,
   "id": "d3a205b7-710c-411c-9006-586b021602c4",
   "metadata": {},
   "outputs": [
    {
     "data": {
      "text/plain": [
       "tensor([[-11.4255, -10.1077,  -8.7256],\n",
       "        [-11.6930, -11.0610, -10.3832],\n",
       "        [-11.4537, -10.3740,  -9.1281],\n",
       "        [-10.9978,  -8.6282,  -6.3577],\n",
       "        [-11.4419, -10.0699,  -9.8051]])"
      ]
     },
     "execution_count": 17,
     "metadata": {},
     "output_type": "execute_result"
    }
   ],
   "source": [
    "quart_tr.min(axis=0).values.T[1:,:]"
   ]
  },
  {
   "cell_type": "code",
   "execution_count": 18,
   "id": "49c249f7-c938-4065-ab14-926bb357ec05",
   "metadata": {},
   "outputs": [
    {
     "data": {
      "text/plain": [
       "tensor([[-2.9963, -2.8414, -2.5442],\n",
       "        [-4.0268, -3.9090, -3.4448],\n",
       "        [-3.0258, -2.9767, -2.7893],\n",
       "        [-1.3304, -1.3304, -1.3303],\n",
       "        [-4.0107, -3.9680, -3.7179]])"
      ]
     },
     "execution_count": 18,
     "metadata": {},
     "output_type": "execute_result"
    }
   ],
   "source": [
    "quart_tr.max(axis=0).values[:,1:].T"
   ]
  }
 ],
 "metadata": {
  "kernelspec": {
   "display_name": "Python 3 (ipykernel)",
   "language": "python",
   "name": "python3"
  },
  "language_info": {
   "codemirror_mode": {
    "name": "ipython",
    "version": 3
   },
   "file_extension": ".py",
   "mimetype": "text/x-python",
   "name": "python",
   "nbconvert_exporter": "python",
   "pygments_lexer": "ipython3",
   "version": "3.9.13"
  }
 },
 "nbformat": 4,
 "nbformat_minor": 5
}
